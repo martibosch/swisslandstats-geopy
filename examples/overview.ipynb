{
 "cells": [
  {
   "cell_type": "markdown",
   "metadata": {
    "ein.tags": "worksheet-0",
    "slideshow": {
     "slide_type": "-"
    }
   },
   "source": [
    "# Overview of SwissLandStats\n",
    "\n",
    "The `swisslandstats-geopy` provides an extended pandas-like interface to the [Swiss Federal Statistics Geodata](https://www.bfs.admin.ch/bfs/en/home/services/geostat/swiss-federal-statistics-geodata.html). In this notebook, we show how it can be used with the land use statistics as well as with the population and household statistics (STATPOP).\n",
    "\n",
    "## Land use statistics\n",
    "\n",
    "Let us first download and unzip the [land use statistics](https://www.bfs.admin.ch/bfs/en/home/services/geostat/swiss-federal-statistics-geodata/land-use-cover-suitability/swiss-land-use-statistics.html) (note that the `make` command in the cell below will probably not work in Windows - in such case you might [click here](https://www.bfs.admin.ch/bfsstatic/dam/assets/6646411/master) to download the data manually)."
   ]
  },
  {
   "cell_type": "code",
   "execution_count": null,
   "metadata": {
    "autoscroll": false,
    "ein.hycell": false,
    "ein.tags": "worksheet-0",
    "slideshow": {
     "slide_type": "-"
    }
   },
   "outputs": [
    {
     "name": "stdout",
     "output_type": "stream",
     "text": [
      "make: Nothing to be done for 'download_land'.\r\n"
     ]
    }
   ],
   "source": [
    "!make download_land"
   ]
  },
  {
   "cell_type": "code",
   "execution_count": null,
   "metadata": {
    "autoscroll": false,
    "ein.hycell": false,
    "ein.tags": "worksheet-0",
    "slideshow": {
     "slide_type": "-"
    }
   },
   "outputs": [],
   "source": [
    "import swisslandstats as sls"
   ]
  },
  {
   "cell_type": "markdown",
   "metadata": {
    "ein.tags": "worksheet-0",
    "slideshow": {
     "slide_type": "-"
    }
   },
   "source": [
    "## IO and plotting"
   ]
  },
  {
   "cell_type": "markdown",
   "metadata": {
    "ein.tags": "worksheet-0",
    "slideshow": {
     "slide_type": "-"
    }
   },
   "source": [
    "Now we can read the land statistics file from the Swiss Federal Statistical Office (SFSO) e.g., the Standard nomenclature NOAS04. It might take a while since there are over 2.7 million rows."
   ]
  },
  {
   "cell_type": "code",
   "execution_count": null,
   "metadata": {
    "autoscroll": false,
    "ein.hycell": false,
    "ein.tags": "worksheet-0",
    "slideshow": {
     "slide_type": "-"
    }
   },
   "outputs": [],
   "source": [
    "ldf = sls.read_csv('data/land/AREA_NOAS04_17_181029.csv')"
   ]
  },
  {
   "cell_type": "markdown",
   "metadata": {
    "ein.tags": "worksheet-0",
    "slideshow": {
     "slide_type": "-"
    }
   },
   "source": [
    "Then `ldf` will be a `LandDataFrame` object, which extends a pandas `DataFrame` with some methods aimed to process geographic raster data."
   ]
  },
  {
   "cell_type": "code",
   "execution_count": null,
   "metadata": {
    "autoscroll": false,
    "ein.hycell": false,
    "ein.tags": "worksheet-0",
    "slideshow": {
     "slide_type": "-"
    }
   },
   "outputs": [
    {
     "data": {
      "text/html": [
       "<div>\n",
       "<style scoped>\n",
       "    .dataframe tbody tr th:only-of-type {\n",
       "        vertical-align: middle;\n",
       "    }\n",
       "\n",
       "    .dataframe tbody tr th {\n",
       "        vertical-align: top;\n",
       "    }\n",
       "\n",
       "    .dataframe thead th {\n",
       "        text-align: right;\n",
       "    }\n",
       "</style>\n",
       "<table border=\"1\" class=\"dataframe\">\n",
       "  <thead>\n",
       "    <tr style=\"text-align: right;\">\n",
       "      <th></th>\n",
       "      <th>E</th>\n",
       "      <th>N</th>\n",
       "      <th>X</th>\n",
       "      <th>Y</th>\n",
       "      <th>GMDE</th>\n",
       "      <th>FJ85</th>\n",
       "      <th>FJ97</th>\n",
       "      <th>FJ09</th>\n",
       "      <th>FJ18</th>\n",
       "      <th>AS85R_17</th>\n",
       "      <th>AS97R_17</th>\n",
       "      <th>AS09R_17</th>\n",
       "      <th>AS18_17</th>\n",
       "      <th>AS85R_4</th>\n",
       "      <th>AS97R_4</th>\n",
       "      <th>AS09R_4</th>\n",
       "      <th>AS18_4</th>\n",
       "    </tr>\n",
       "    <tr>\n",
       "      <th>RELI</th>\n",
       "      <th></th>\n",
       "      <th></th>\n",
       "      <th></th>\n",
       "      <th></th>\n",
       "      <th></th>\n",
       "      <th></th>\n",
       "      <th></th>\n",
       "      <th></th>\n",
       "      <th></th>\n",
       "      <th></th>\n",
       "      <th></th>\n",
       "      <th></th>\n",
       "      <th></th>\n",
       "      <th></th>\n",
       "      <th></th>\n",
       "      <th></th>\n",
       "      <th></th>\n",
       "    </tr>\n",
       "  </thead>\n",
       "  <tbody>\n",
       "    <tr>\n",
       "      <th>48551097</th>\n",
       "      <td>2485500</td>\n",
       "      <td>1109700</td>\n",
       "      <td>485500</td>\n",
       "      <td>109700</td>\n",
       "      <td>6611</td>\n",
       "      <td>1980</td>\n",
       "      <td>1992</td>\n",
       "      <td>2004</td>\n",
       "      <td>2012</td>\n",
       "      <td>10</td>\n",
       "      <td>10</td>\n",
       "      <td>10</td>\n",
       "      <td>10</td>\n",
       "      <td>3</td>\n",
       "      <td>3</td>\n",
       "      <td>3</td>\n",
       "      <td>3</td>\n",
       "    </tr>\n",
       "    <tr>\n",
       "      <th>48551098</th>\n",
       "      <td>2485500</td>\n",
       "      <td>1109800</td>\n",
       "      <td>485500</td>\n",
       "      <td>109800</td>\n",
       "      <td>6611</td>\n",
       "      <td>1980</td>\n",
       "      <td>1992</td>\n",
       "      <td>2004</td>\n",
       "      <td>2012</td>\n",
       "      <td>10</td>\n",
       "      <td>10</td>\n",
       "      <td>10</td>\n",
       "      <td>10</td>\n",
       "      <td>3</td>\n",
       "      <td>3</td>\n",
       "      <td>3</td>\n",
       "      <td>3</td>\n",
       "    </tr>\n",
       "    <tr>\n",
       "      <th>48551099</th>\n",
       "      <td>2485500</td>\n",
       "      <td>1109900</td>\n",
       "      <td>485500</td>\n",
       "      <td>109900</td>\n",
       "      <td>6611</td>\n",
       "      <td>1980</td>\n",
       "      <td>1992</td>\n",
       "      <td>2004</td>\n",
       "      <td>2012</td>\n",
       "      <td>10</td>\n",
       "      <td>10</td>\n",
       "      <td>10</td>\n",
       "      <td>10</td>\n",
       "      <td>3</td>\n",
       "      <td>3</td>\n",
       "      <td>3</td>\n",
       "      <td>3</td>\n",
       "    </tr>\n",
       "    <tr>\n",
       "      <th>48551100</th>\n",
       "      <td>2485500</td>\n",
       "      <td>1110000</td>\n",
       "      <td>485500</td>\n",
       "      <td>110000</td>\n",
       "      <td>6611</td>\n",
       "      <td>1980</td>\n",
       "      <td>1992</td>\n",
       "      <td>2004</td>\n",
       "      <td>2012</td>\n",
       "      <td>10</td>\n",
       "      <td>10</td>\n",
       "      <td>10</td>\n",
       "      <td>10</td>\n",
       "      <td>3</td>\n",
       "      <td>3</td>\n",
       "      <td>3</td>\n",
       "      <td>3</td>\n",
       "    </tr>\n",
       "    <tr>\n",
       "      <th>48551101</th>\n",
       "      <td>2485500</td>\n",
       "      <td>1110100</td>\n",
       "      <td>485500</td>\n",
       "      <td>110100</td>\n",
       "      <td>6611</td>\n",
       "      <td>1980</td>\n",
       "      <td>1992</td>\n",
       "      <td>2004</td>\n",
       "      <td>2012</td>\n",
       "      <td>10</td>\n",
       "      <td>10</td>\n",
       "      <td>10</td>\n",
       "      <td>10</td>\n",
       "      <td>3</td>\n",
       "      <td>3</td>\n",
       "      <td>3</td>\n",
       "      <td>3</td>\n",
       "    </tr>\n",
       "  </tbody>\n",
       "</table>\n",
       "</div>"
      ],
      "text/plain": [
       "                E        N       X       Y  GMDE  FJ85  FJ97  FJ09  FJ18  \\\n",
       "RELI                                                                       \n",
       "48551097  2485500  1109700  485500  109700  6611  1980  1992  2004  2012   \n",
       "48551098  2485500  1109800  485500  109800  6611  1980  1992  2004  2012   \n",
       "48551099  2485500  1109900  485500  109900  6611  1980  1992  2004  2012   \n",
       "48551100  2485500  1110000  485500  110000  6611  1980  1992  2004  2012   \n",
       "48551101  2485500  1110100  485500  110100  6611  1980  1992  2004  2012   \n",
       "\n",
       "          AS85R_17  AS97R_17  AS09R_17  AS18_17  AS85R_4  AS97R_4  AS09R_4  \\\n",
       "RELI                                                                         \n",
       "48551097        10        10        10       10        3        3        3   \n",
       "48551098        10        10        10       10        3        3        3   \n",
       "48551099        10        10        10       10        3        3        3   \n",
       "48551100        10        10        10       10        3        3        3   \n",
       "48551101        10        10        10       10        3        3        3   \n",
       "\n",
       "          AS18_4  \n",
       "RELI              \n",
       "48551097       3  \n",
       "48551098       3  \n",
       "48551099       3  \n",
       "48551100       3  \n",
       "48551101       3  "
      ]
     },
     "execution_count": null,
     "metadata": {},
     "output_type": "execute_result"
    }
   ],
   "source": [
    "ldf.head()"
   ]
  },
  {
   "cell_type": "markdown",
   "metadata": {
    "ein.tags": "worksheet-0",
    "slideshow": {
     "slide_type": "-"
    }
   },
   "source": [
    "Each row corresponds to a pixel, where `E`, `N` denote the coordinates of its centroid (in the [LV95 coordinate system](https://www.swisstopo.admin.ch/en/knowledge-facts/surveying-geodesy/reference-frames/local/lv95.html), or alternatively `X` and `Y` in [LV03](https://www.swisstopo.admin.ch/en/knowledge-facts/surveying-geodesy/reference-frames/local/lv03.html)).\n",
    "\n",
    "The `FJ85`, `FJ97`, `FJ09` and `FJ18` denote the exact years when the observations for each of the four survey periods were taken. See [the datset description (link in French)](https://www.bfs.admin.ch/bfs/fr/home/services/geostat/geodonnees-statistique-federale/sol-utilisation-couverture/statistique-suisse-superficie.html) for more information. The columns of the form *AS{survey_period}_{num_classes}* denote the land use/land cover class at its respective survey period. The free tier includes classifications for 17 and 4 land use/land cover classes.\n",
    "\n",
    "Let us first plot a land use/land cover column, e.g., the land use/land cover [classified into the 4 main classes](https://www.bfs.admin.ch/bfs/fr/home/services/geostat/geodonnees-statistique-federale/sol-utilisation-couverture/statistique-suisse-superficie/nomenclature-standard.html) for the 2013/18 survey. We can use any colormap that works with matplotlib. In this example, we will use one that is well suited for the 4 main classes classification, which is included within the swisslandastats library:"
   ]
  },
  {
   "cell_type": "code",
   "execution_count": null,
   "metadata": {
    "autoscroll": false,
    "ein.hycell": false,
    "ein.tags": "worksheet-0",
    "slideshow": {
     "slide_type": "-"
    }
   },
   "outputs": [
    {
     "data": {
      "text/plain": [
       "<AxesSubplot:>"
      ]
     },
     "execution_count": null,
     "metadata": {},
     "output_type": "execute_result"
    },
    {
     "data": {
      "image/png": "[encoded data removed]",
      "text/plain": [
       "<Figure size 432x288 with 1 Axes>"
      ]
     },
     "metadata": {
      "needs_background": "light"
     },
     "output_type": "display_data"
    }
   ],
   "source": [
    "ldf.plot('AS18_4', cmap=sls.noas04_4_cmap, norm=sls.noas04_4_norm, legend=True)"
   ]
  },
  {
   "cell_type": "markdown",
   "metadata": {
    "ein.tags": "worksheet-0",
    "slideshow": {
     "slide_type": "-"
    }
   },
   "source": [
    "See the documentation for `LandDataFrame.plot` for more details.\n",
    "\n",
    "On the other hand, we can use the `to_ndarray` method to transform any column to a numpy array:"
   ]
  },
  {
   "cell_type": "code",
   "execution_count": null,
   "metadata": {
    "autoscroll": false,
    "ein.hycell": false,
    "ein.tags": "worksheet-0",
    "slideshow": {
     "slide_type": "-"
    }
   },
   "outputs": [
    {
     "data": {
      "text/plain": [
       "array([[3, 0, 0, ..., 0, 0, 0],\n",
       "       [0, 0, 0, ..., 0, 0, 0],\n",
       "       [0, 0, 0, ..., 0, 0, 0],\n",
       "       ...,\n",
       "       [3, 3, 2, ..., 0, 0, 0],\n",
       "       [3, 3, 3, ..., 0, 0, 0],\n",
       "       [3, 2, 2, ..., 0, 0, 0]], dtype=uint8)"
      ]
     },
     "execution_count": null,
     "metadata": {},
     "output_type": "execute_result"
    }
   ],
   "source": [
    "ldf.to_ndarray('AS18_4')"
   ]
  },
  {
   "cell_type": "markdown",
   "metadata": {
    "ein.tags": "worksheet-0",
    "slideshow": {
     "slide_type": "-"
    }
   },
   "source": [
    "Or also export any column to a GeoTiff file by means of the `to_geotiff` method, where the first argument corresponds to the output file path, and the second to the data column:"
   ]
  },
  {
   "cell_type": "code",
   "execution_count": null,
   "metadata": {
    "autoscroll": false,
    "ein.hycell": false,
    "ein.tags": "worksheet-0",
    "slideshow": {
     "slide_type": "-"
    }
   },
   "outputs": [],
   "source": [
    "ldf.to_geotiff('as18_4.tif', 'AS18_4')"
   ]
  },
  {
   "cell_type": "markdown",
   "metadata": {
    "ein.tags": "worksheet-0",
    "slideshow": {
     "slide_type": "-"
    }
   },
   "source": [
    "## Basic transformations"
   ]
  },
  {
   "cell_type": "markdown",
   "metadata": {
    "ein.tags": "worksheet-0",
    "slideshow": {
     "slide_type": "-"
    }
   },
   "source": [
    "We can operate over a `LandDataFrame` as we would do with any pandas `DataFrame`. For example, we can create a new column that represents the pixels that have been transformed from non-urban to urban during the 2004/09-2013/18 period:"
   ]
  },
  {
   "cell_type": "code",
   "execution_count": null,
   "metadata": {
    "autoscroll": false,
    "ein.hycell": false,
    "ein.tags": "worksheet-0",
    "slideshow": {
     "slide_type": "-"
    }
   },
   "outputs": [],
   "source": [
    "ldf['urban_09-18'] = (ldf['AS18_4'] == 1) & (ldf['AS09R_4'] != 1)"
   ]
  },
  {
   "cell_type": "markdown",
   "metadata": {
    "ein.tags": "worksheet-0",
    "slideshow": {
     "slide_type": "-"
    }
   },
   "source": [
    "Let us plot the new column:"
   ]
  },
  {
   "cell_type": "code",
   "execution_count": null,
   "metadata": {
    "autoscroll": false,
    "ein.hycell": false,
    "ein.tags": "worksheet-0",
    "slideshow": {
     "slide_type": "-"
    }
   },
   "outputs": [
    {
     "data": {
      "text/plain": [
       "<AxesSubplot:>"
      ]
     },
     "execution_count": null,
     "metadata": {},
     "output_type": "execute_result"
    },
    {
     "data": {
      "image/png": "[encoded data removed]",
      "text/plain": [
       "<Figure size 720x360 with 2 Axes>"
      ]
     },
     "metadata": {
      "needs_background": "light"
     },
     "output_type": "display_data"
    }
   ],
   "source": [
    "import matplotlib.pyplot as plt\n",
    "\n",
    "fig, axes = plt.subplots(1, 2, figsize=(10, 5))\n",
    "ldf.plot('AS09R_4', cmap=sls.noas04_4_cmap, ax=axes[0])\n",
    "ldf.plot('urban_09-18', ax=axes[1])"
   ]
  },
  {
   "cell_type": "markdown",
   "metadata": {
    "ein.tags": "worksheet-0",
    "slideshow": {
     "slide_type": "-"
    }
   },
   "source": [
    "We might also subset our region by selecting a set of rows of interest:"
   ]
  },
  {
   "cell_type": "code",
   "execution_count": null,
   "metadata": {
    "autoscroll": false,
    "ein.hycell": false,
    "ein.tags": "worksheet-0",
    "slideshow": {
     "slide_type": "-"
    }
   },
   "outputs": [
    {
     "data": {
      "text/plain": [
       "<AxesSubplot:>"
      ]
     },
     "execution_count": null,
     "metadata": {},
     "output_type": "execute_result"
    },
    {
     "data": {
      "image/png": "[encoded data removed]",
      "text/plain": [
       "<Figure size 432x288 with 1 Axes>"
      ]
     },
     "metadata": {
      "needs_background": "light"
     },
     "output_type": "display_data"
    }
   ],
   "source": [
    "ldf.iloc[:100000].plot('AS09R_4', cmap=sls.noas04_4_cmap)"
   ]
  },
  {
   "cell_type": "markdown",
   "metadata": {
    "ein.tags": "worksheet-0",
    "slideshow": {
     "slide_type": "-"
    }
   },
   "source": [
    "## Geometric transformations"
   ]
  },
  {
   "cell_type": "markdown",
   "metadata": {
    "ein.tags": "worksheet-0",
    "slideshow": {
     "slide_type": "-"
    }
   },
   "source": [
    "Selecting pixel rows is not the most natural way to extract geographic regions. Instead, we can clip a `LandDataFrame` instance to the extents of a given geometry. Note that .\n",
    "\n",
    "Let us first use osmnx in order to obtain the bounds of a region of interest, e.g., the municipality of Lausanne:"
   ]
  },
  {
   "cell_type": "code",
   "execution_count": null,
   "metadata": {
    "autoscroll": false,
    "ein.hycell": false,
    "ein.tags": "worksheet-0",
    "slideshow": {
     "slide_type": "-"
    }
   },
   "outputs": [],
   "source": [
    "import osmnx as ox\n",
    "\n",
    "geometry = ox.geocode_to_gdf('Lausanne, Vaud')['geometry'].iloc[0]"
   ]
  },
  {
   "cell_type": "markdown",
   "metadata": {
    "ein.tags": "worksheet-0",
    "slideshow": {
     "slide_type": "-"
    }
   },
   "source": [
    "Now we can use the `clip_by_geometry` method in order to clip the `LandDataFrame` to the extents of such geometry. Just note that the [coordinate reference system](https://en.wikipedia.org/wiki/Spatial_reference_system) of the geometry must be provided, otherwise, the one from the swisslandstats' `settings` module will be taken (i.e., [EPSG:2056](https://spatialreference.org/ref/epsg/2056) by default). Since the geometry of this example has been extracted from the OpenStreetMap, it will be in [EPSG:4326](https://spatialreference.org/ref/epsg/4326)."
   ]
  },
  {
   "cell_type": "code",
   "execution_count": null,
   "metadata": {
    "autoscroll": false,
    "ein.hycell": false,
    "ein.tags": "worksheet-0",
    "slideshow": {
     "slide_type": "-"
    }
   },
   "outputs": [
    {
     "data": {
      "text/plain": [
       "<AxesSubplot:>"
      ]
     },
     "execution_count": null,
     "metadata": {},
     "output_type": "execute_result"
    },
    {
     "data": {
      "image/png": "[encoded data removed]",
      "text/plain": [
       "<Figure size 432x288 with 1 Axes>"
      ]
     },
     "metadata": {
      "needs_background": "light"
     },
     "output_type": "display_data"
    }
   ],
   "source": [
    "subset_ldf = ldf.clip_by_geometry(geometry,\n",
    "                                  geometry_crs=ox.settings.default_crs)\n",
    "subset_ldf.plot('AS09R_4', cmap=sls.noas04_4_cmap)"
   ]
  },
  {
   "cell_type": "markdown",
   "metadata": {
    "ein.tags": "worksheet-0",
    "slideshow": {
     "slide_type": "-"
    }
   },
   "source": [
    "Also note that clipping `LandDataFrame` instances by geometries might still be [due to the current implementation of geopandas](https://jorisvandenbossche.github.io/blog/2017/09/19/geopandas-cython/). Hopefully, [this will be resolved soon](https://github.com/geopandas/geopandas/issues/473) and we can expect significant speed-ups in such geometric operations.\n",
    "\n",
    "In any case, the `clip_by_nominatim` method provides a shortcut for what has been done above:"
   ]
  },
  {
   "cell_type": "code",
   "execution_count": null,
   "metadata": {
    "autoscroll": false,
    "ein.hycell": false,
    "ein.tags": "worksheet-0",
    "slideshow": {
     "slide_type": "-"
    }
   },
   "outputs": [
    {
     "data": {
      "text/plain": [
       "<AxesSubplot:>"
      ]
     },
     "execution_count": null,
     "metadata": {},
     "output_type": "execute_result"
    },
    {
     "data": {
      "image/png": "[encoded data removed]",
      "text/plain": [
       "<Figure size 432x288 with 1 Axes>"
      ]
     },
     "metadata": {
      "needs_background": "light"
     },
     "output_type": "display_data"
    }
   ],
   "source": [
    "same_subset_ldf = ldf.clip_by_nominatim('Lausanne, Vaud')\n",
    "same_subset_ldf.plot('AS09R_4', cmap=sls.noas04_4_cmap)"
   ]
  },
  {
   "cell_type": "markdown",
   "metadata": {},
   "source": [
    "## Population and household statistics: STATPOP\n",
    "\n",
    "Let us now download and unzip the [population and household statistics](https://www.bfs.admin.ch/bfs/en/home/services/geostat/swiss-federal-statistics-geodata/population-buildings-dwellings-persons/population-housholds-from-2010.html) (note that the `make` command in the cell below will probably not work in Windows - in such case you might [click here](https://www.bfs.admin.ch/bfsstatic/dam/assets/9947069/master) to download the data manually)."
   ]
  },
  {
   "cell_type": "code",
   "execution_count": null,
   "metadata": {},
   "outputs": [
    {
     "name": "stdout",
     "output_type": "stream",
     "text": [
      "make: Nothing to be done for 'download_statpop'.\r\n"
     ]
    }
   ],
   "source": [
    "!make download_statpop"
   ]
  },
  {
   "cell_type": "markdown",
   "metadata": {},
   "source": [
    "In the STATPOP dataset, the `x` and `y` coordinates in the [EPSG:2056](https://spatialreference.org/ref/epsg/2056) CRS are stored in the `E_KOORD` and `N_KOORD` columns respectively (instead of `E` and `N` in the land use statistics). Therefore, we need to provide such information to the `read_csv` method as in: "
   ]
  },
  {
   "cell_type": "code",
   "execution_count": null,
   "metadata": {},
   "outputs": [
    {
     "data": {
      "text/html": [
       "<div>\n",
       "<style scoped>\n",
       "    .dataframe tbody tr th:only-of-type {\n",
       "        vertical-align: middle;\n",
       "    }\n",
       "\n",
       "    .dataframe tbody tr th {\n",
       "        vertical-align: top;\n",
       "    }\n",
       "\n",
       "    .dataframe thead th {\n",
       "        text-align: right;\n",
       "    }\n",
       "</style>\n",
       "<table border=\"1\" class=\"dataframe\">\n",
       "  <thead>\n",
       "    <tr style=\"text-align: right;\">\n",
       "      <th></th>\n",
       "      <th>X_KOORD</th>\n",
       "      <th>Y_KOORD</th>\n",
       "      <th>E_KOORD</th>\n",
       "      <th>N_KOORD</th>\n",
       "      <th>B18BTOT</th>\n",
       "      <th>B18B11</th>\n",
       "      <th>B18B12</th>\n",
       "      <th>B18B13</th>\n",
       "      <th>B18B14</th>\n",
       "      <th>B18B15</th>\n",
       "      <th>...</th>\n",
       "      <th>B18B55</th>\n",
       "      <th>B18B56</th>\n",
       "      <th>H18PTOT</th>\n",
       "      <th>H18P01</th>\n",
       "      <th>H18P02</th>\n",
       "      <th>H18P03</th>\n",
       "      <th>H18P04</th>\n",
       "      <th>H18P05</th>\n",
       "      <th>H18P06</th>\n",
       "      <th>H18PI</th>\n",
       "    </tr>\n",
       "    <tr>\n",
       "      <th>RELI</th>\n",
       "      <th></th>\n",
       "      <th></th>\n",
       "      <th></th>\n",
       "      <th></th>\n",
       "      <th></th>\n",
       "      <th></th>\n",
       "      <th></th>\n",
       "      <th></th>\n",
       "      <th></th>\n",
       "      <th></th>\n",
       "      <th></th>\n",
       "      <th></th>\n",
       "      <th></th>\n",
       "      <th></th>\n",
       "      <th></th>\n",
       "      <th></th>\n",
       "      <th></th>\n",
       "      <th></th>\n",
       "      <th></th>\n",
       "      <th></th>\n",
       "      <th></th>\n",
       "    </tr>\n",
       "  </thead>\n",
       "  <tbody>\n",
       "    <tr>\n",
       "      <th>48671121</th>\n",
       "      <td>486700</td>\n",
       "      <td>112100</td>\n",
       "      <td>2486700</td>\n",
       "      <td>1112100</td>\n",
       "      <td>33</td>\n",
       "      <td>28</td>\n",
       "      <td>5</td>\n",
       "      <td>4</td>\n",
       "      <td>3</td>\n",
       "      <td>0</td>\n",
       "      <td>...</td>\n",
       "      <td>0</td>\n",
       "      <td>0</td>\n",
       "      <td>6</td>\n",
       "      <td>0</td>\n",
       "      <td>3</td>\n",
       "      <td>3</td>\n",
       "      <td>3</td>\n",
       "      <td>3</td>\n",
       "      <td>3</td>\n",
       "      <td>2</td>\n",
       "    </tr>\n",
       "    <tr>\n",
       "      <th>48641119</th>\n",
       "      <td>486400</td>\n",
       "      <td>111900</td>\n",
       "      <td>2486400</td>\n",
       "      <td>1111900</td>\n",
       "      <td>10</td>\n",
       "      <td>10</td>\n",
       "      <td>0</td>\n",
       "      <td>0</td>\n",
       "      <td>0</td>\n",
       "      <td>0</td>\n",
       "      <td>...</td>\n",
       "      <td>0</td>\n",
       "      <td>0</td>\n",
       "      <td>4</td>\n",
       "      <td>3</td>\n",
       "      <td>3</td>\n",
       "      <td>3</td>\n",
       "      <td>3</td>\n",
       "      <td>0</td>\n",
       "      <td>0</td>\n",
       "      <td>1</td>\n",
       "    </tr>\n",
       "    <tr>\n",
       "      <th>48651118</th>\n",
       "      <td>486500</td>\n",
       "      <td>111800</td>\n",
       "      <td>2486500</td>\n",
       "      <td>1111800</td>\n",
       "      <td>17</td>\n",
       "      <td>14</td>\n",
       "      <td>3</td>\n",
       "      <td>3</td>\n",
       "      <td>0</td>\n",
       "      <td>0</td>\n",
       "      <td>...</td>\n",
       "      <td>0</td>\n",
       "      <td>0</td>\n",
       "      <td>5</td>\n",
       "      <td>3</td>\n",
       "      <td>3</td>\n",
       "      <td>0</td>\n",
       "      <td>3</td>\n",
       "      <td>0</td>\n",
       "      <td>3</td>\n",
       "      <td>1</td>\n",
       "    </tr>\n",
       "    <tr>\n",
       "      <th>48681119</th>\n",
       "      <td>486800</td>\n",
       "      <td>111900</td>\n",
       "      <td>2486800</td>\n",
       "      <td>1111900</td>\n",
       "      <td>167</td>\n",
       "      <td>125</td>\n",
       "      <td>42</td>\n",
       "      <td>26</td>\n",
       "      <td>3</td>\n",
       "      <td>15</td>\n",
       "      <td>...</td>\n",
       "      <td>3</td>\n",
       "      <td>0</td>\n",
       "      <td>47</td>\n",
       "      <td>4</td>\n",
       "      <td>10</td>\n",
       "      <td>10</td>\n",
       "      <td>12</td>\n",
       "      <td>6</td>\n",
       "      <td>5</td>\n",
       "      <td>1</td>\n",
       "    </tr>\n",
       "    <tr>\n",
       "      <th>48721131</th>\n",
       "      <td>487200</td>\n",
       "      <td>113100</td>\n",
       "      <td>2487200</td>\n",
       "      <td>1113100</td>\n",
       "      <td>16</td>\n",
       "      <td>14</td>\n",
       "      <td>3</td>\n",
       "      <td>3</td>\n",
       "      <td>0</td>\n",
       "      <td>3</td>\n",
       "      <td>...</td>\n",
       "      <td>0</td>\n",
       "      <td>0</td>\n",
       "      <td>5</td>\n",
       "      <td>3</td>\n",
       "      <td>3</td>\n",
       "      <td>3</td>\n",
       "      <td>0</td>\n",
       "      <td>0</td>\n",
       "      <td>3</td>\n",
       "      <td>1</td>\n",
       "    </tr>\n",
       "  </tbody>\n",
       "</table>\n",
       "<p>5 rows × 81 columns</p>\n",
       "</div>"
      ],
      "text/plain": [
       "          X_KOORD  Y_KOORD  E_KOORD  N_KOORD  B18BTOT  B18B11  B18B12  B18B13  \\\n",
       "RELI                                                                            \n",
       "48671121   486700   112100  2486700  1112100       33      28       5       4   \n",
       "48641119   486400   111900  2486400  1111900       10      10       0       0   \n",
       "48651118   486500   111800  2486500  1111800       17      14       3       3   \n",
       "48681119   486800   111900  2486800  1111900      167     125      42      26   \n",
       "48721131   487200   113100  2487200  1113100       16      14       3       3   \n",
       "\n",
       "          B18B14  B18B15  ...  B18B55  B18B56  H18PTOT  H18P01  H18P02  \\\n",
       "RELI                      ...                                            \n",
       "48671121       3       0  ...       0       0        6       0       3   \n",
       "48641119       0       0  ...       0       0        4       3       3   \n",
       "48651118       0       0  ...       0       0        5       3       3   \n",
       "48681119       3      15  ...       3       0       47       4      10   \n",
       "48721131       0       3  ...       0       0        5       3       3   \n",
       "\n",
       "          H18P03  H18P04  H18P05  H18P06  H18PI  \n",
       "RELI                                             \n",
       "48671121       3       3       3       3      2  \n",
       "48641119       3       3       0       0      1  \n",
       "48651118       0       3       0       3      1  \n",
       "48681119      10      12       6       5      1  \n",
       "48721131       3       0       0       3      1  \n",
       "\n",
       "[5 rows x 81 columns]"
      ]
     },
     "execution_count": null,
     "metadata": {},
     "output_type": "execute_result"
    }
   ],
   "source": [
    "statpop_ldf = sls.read_csv('data/statpop/STATPOP2018.csv', x_column='E_KOORD',\n",
    "                           y_column='N_KOORD')\n",
    "statpop_ldf.head()"
   ]
  },
  {
   "cell_type": "markdown",
   "metadata": {},
   "source": [
    "Let us focus on the Canton of Vaud only:"
   ]
  },
  {
   "cell_type": "code",
   "execution_count": null,
   "metadata": {},
   "outputs": [],
   "source": [
    "statpop_ldf = statpop_ldf.clip_by_nominatim('Vaud, Switzerland')"
   ]
  },
  {
   "cell_type": "markdown",
   "metadata": {},
   "source": [
    "Among other information, STATPOP provides a set of columns with the permanent resident population by age group and sex. These are of the form 'B{jj}B{sex}{age_group}', where 'jj' corresponds to the year (in this example, we have '18' for 2018), 'sex' can be either 'M' (man) or 'W' (woman), and 'age_group' is a two-digit integer (zero-padded when necessary) that represents a 5-year age range from '01' (under 4 years old) to '19' (90 and older).\n",
    "\n",
    "Let us plot the male population in the 65-69 age range, i.e., 'B18BM14':"
   ]
  },
  {
   "cell_type": "code",
   "execution_count": null,
   "metadata": {},
   "outputs": [
    {
     "data": {
      "text/plain": [
       "<matplotlib.colorbar.Colorbar at 0x7ff3c9c01e20>"
      ]
     },
     "execution_count": null,
     "metadata": {},
     "output_type": "execute_result"
    },
    {
     "data": {
      "image/png": "[encoded data removed]",
      "text/plain": [
       "<Figure size 432x288 with 2 Axes>"
      ]
     },
     "metadata": {
      "needs_background": "light"
     },
     "output_type": "display_data"
    }
   ],
   "source": [
    "ax = statpop_ldf.plot('B18BM14')\n",
    "plt.colorbar(ax.get_images()[0])"
   ]
  },
  {
   "cell_type": "markdown",
   "metadata": {},
   "source": [
    "We can perform any kind of pandas-like operation in our `statpop_ldf` instance. For example, let us compute the total population considered most \"vulnerable\" to urban heat exposure, e.g., ages under 14 and over 60 for both sexes:"
   ]
  },
  {
   "cell_type": "code",
   "execution_count": null,
   "metadata": {},
   "outputs": [],
   "source": [
    "vulnerable_columns = [\n",
    "    f'B18B{sex}{age_group:02}' for sex in ['M', 'W']\n",
    "    for age_group in list(range(1, 4)) + list(range(13, 20))\n",
    "]\n",
    "statpop_ldf['vulnerable'] = statpop_ldf[vulnerable_columns].sum(axis=1)"
   ]
  },
  {
   "cell_type": "markdown",
   "metadata": {},
   "source": [
    "We can now plot this information as we would with any other column:"
   ]
  },
  {
   "cell_type": "code",
   "execution_count": null,
   "metadata": {},
   "outputs": [
    {
     "data": {
      "text/plain": [
       "<matplotlib.colorbar.Colorbar at 0x7ff3c97399a0>"
      ]
     },
     "execution_count": null,
     "metadata": {},
     "output_type": "execute_result"
    },
    {
     "data": {
      "image/png": "[encoded data removed]",
      "text/plain": [
       "<Figure size 432x288 with 2 Axes>"
      ]
     },
     "metadata": {
      "needs_background": "light"
     },
     "output_type": "display_data"
    }
   ],
   "source": [
    "ax = statpop_ldf.plot('vulnerable')\n",
    "plt.colorbar(ax.get_images()[0])"
   ]
  }
 ],
 "metadata": {
  "kernelspec": {
   "argv": [
    "/home/martibosch/anaconda3/envs/swisslandstats/bin/python",
    "-m",
    "ipykernel_launcher",
    "-f",
    "{connection_file}"
   ],
   "display_name": "Python (swisslandstats)",
   "env": null,
   "interrupt_mode": "signal",
   "language": "python",
   "metadata": null,
   "name": "swisslandstats"
  },
  "language_info": {
   "codemirror_mode": {
    "name": "ipython",
    "version": 3
   },
   "file_extension": ".py",
   "mimetype": "text/x-python",
   "name": "python",
   "nbconvert_exporter": "python",
   "pygments_lexer": "ipython3",
   "version": "3.7.8"
  },
  "name": "overview.ipynb"
 },
 "nbformat": 4,
 "nbformat_minor": 2
}
